{
 "cells": [
  {
   "cell_type": "markdown",
   "id": "5629bc27",
   "metadata": {},
   "source": [
    "# Histogram"
   ]
  },
  {
   "cell_type": "raw",
   "id": "ac08e725",
   "metadata": {},
   "source": [
    "Histogram is the graphical representaion of a frequency distribution (in exclusive form) in the form of rectangles with class intervals as bases and corresponding frequencies as heights , there being no gap between any two successive rectangles"
   ]
  },
  {
   "cell_type": "raw",
   "id": "3502d2ce",
   "metadata": {},
   "source": [
    "________________________________________________________________     \n",
    "weights (Kg)  |  40-45     45-50      50-55     55-60    60-65 |\n",
    "________________________________________________________________\n",
    "no of persons |   4         12         13         6       5    | \n",
    "________________________________________________________________"
   ]
  },
  {
   "cell_type": "code",
   "execution_count": 3,
   "id": "aeb00e56",
   "metadata": {},
   "outputs": [],
   "source": [
    "import numpy as np\n",
    "import pandas as pd\n",
    "import matplotlib.pyplot as plt"
   ]
  },
  {
   "cell_type": "code",
   "execution_count": 4,
   "id": "839cec09",
   "metadata": {},
   "outputs": [],
   "source": [
    "ages=[18,19,21,25,26,26,30,32,38,45,55]"
   ]
  },
  {
   "cell_type": "code",
   "execution_count": 9,
   "id": "b0b6a715",
   "metadata": {},
   "outputs": [
    {
     "data": {
      "text/plain": [
       "(array([0.01818182, 0.03636364, 0.02727273, 0.00909091, 0.00909091]),\n",
       " array([10, 20, 30, 40, 50, 60]),\n",
       " <BarContainer object of 5 artists>)"
      ]
     },
     "execution_count": 9,
     "metadata": {},
     "output_type": "execute_result"
    },
    {
     "data": {
      "image/png": "[encoded data removed]",
      "text/plain": [
       "<Figure size 432x288 with 1 Axes>"
      ]
     },
     "metadata": {
      "needs_background": "light"
     },
     "output_type": "display_data"
    }
   ],
   "source": [
    "bins=[10,20,30,40,50,60]\n",
    "plt.hist(ages,bins=bins,edgecolor='yellow',density=True)"
   ]
  },
  {
   "cell_type": "code",
   "execution_count": null,
   "id": "cdaca5d6",
   "metadata": {},
   "outputs": [],
   "source": []
  }
 ],
 "metadata": {
  "kernelspec": {
   "display_name": "Python 3",
   "language": "python",
   "name": "python3"
  },
  "language_info": {
   "codemirror_mode": {
    "name": "ipython",
    "version": 3
   },
   "file_extension": ".py",
   "mimetype": "text/x-python",
   "name": "python",
   "nbconvert_exporter": "python",
   "pygments_lexer": "ipython3",
   "version": "3.8.8"
  }
 },
 "nbformat": 4,
 "nbformat_minor": 5
}
